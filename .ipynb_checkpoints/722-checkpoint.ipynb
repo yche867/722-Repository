{
 "cells": [
  {
   "cell_type": "code",
   "execution_count": 6,
   "id": "cd52751d",
   "metadata": {},
   "outputs": [],
   "source": [
    "import findspark\n",
    "findspark.init('/home/ubuntu/spark-3.2.1-bin-hadoop2.7')\n",
    "import pyspark\n",
    "from pyspark.sql import SparkSession\n",
    "spark = SparkSession.builder.appName('Iteration4').getOrCreate()"
   ]
  },
  {
   "cell_type": "code",
   "execution_count": 7,
   "id": "40caadcc",
   "metadata": {},
   "outputs": [],
   "source": [
    "df = spark.read.load('./diabetes_binary.csv', format=\"csv\", header=\"true\")"
   ]
  },
  {
   "cell_type": "code",
   "execution_count": 8,
   "id": "cde13566",
   "metadata": {},
   "outputs": [
    {
     "data": {
      "text/plain": [
       "['Diabetes_binary',\n",
       " 'HighBP',\n",
       " 'HighChol',\n",
       " 'CholCheck',\n",
       " 'BMI',\n",
       " 'Smoker',\n",
       " 'Stroke',\n",
       " 'HeartDiseaseorAttack',\n",
       " 'PhysActivity',\n",
       " 'Fruits',\n",
       " 'Veggies',\n",
       " 'HvyAlcoholConsump',\n",
       " 'AnyHealthcare',\n",
       " 'NoDocbcCost',\n",
       " 'GenHlth',\n",
       " 'MentHlth',\n",
       " 'PhysHlth',\n",
       " 'DiffWalk',\n",
       " 'Sex',\n",
       " 'Age',\n",
       " 'Education',\n",
       " 'Income']"
      ]
     },
     "execution_count": 8,
     "metadata": {},
     "output_type": "execute_result"
    }
   ],
   "source": [
    "df.columns"
   ]
  },
  {
   "cell_type": "code",
   "execution_count": 9,
   "id": "8c163614",
   "metadata": {},
   "outputs": [
    {
     "data": {
      "text/html": [
       "<style>\n",
       "div.output_area pre {\n",
       "    white-space: pre;\n",
       "}\n"
      ],
      "text/plain": [
       "<IPython.core.display.HTML object>"
      ]
     },
     "metadata": {},
     "output_type": "display_data"
    }
   ],
   "source": [
    "%%html\n",
    "<style>\n",
    "div.output_area pre {\n",
    "    white-space: pre;\n",
    "}"
   ]
  },
  {
   "cell_type": "code",
   "execution_count": 10,
   "id": "cd0c0d3c",
   "metadata": {},
   "outputs": [
    {
     "name": "stderr",
     "output_type": "stream",
     "text": [
      "                                                                                \r"
     ]
    },
    {
     "name": "stdout",
     "output_type": "stream",
     "text": [
      "-RECORD 0-----------------------------------\n",
      " summary              | count               \n",
      " Diabetes_binary      | 70692               \n",
      " HighBP               | 70692               \n",
      " HighChol             | 70692               \n",
      " CholCheck            | 70692               \n",
      " BMI                  | 70692               \n",
      " Smoker               | 70692               \n",
      " Stroke               | 70692               \n",
      " HeartDiseaseorAttack | 70692               \n",
      " PhysActivity         | 70692               \n",
      " Fruits               | 70692               \n",
      " Veggies              | 70692               \n",
      " HvyAlcoholConsump    | 70692               \n",
      " AnyHealthcare        | 70692               \n",
      " NoDocbcCost          | 70692               \n",
      " GenHlth              | 70692               \n",
      " MentHlth             | 70692               \n",
      " PhysHlth             | 70692               \n",
      " DiffWalk             | 70692               \n",
      " Sex                  | 70692               \n",
      " Age                  | 70692               \n",
      " Education            | 70692               \n",
      " Income               | 70688               \n",
      "-RECORD 1-----------------------------------\n",
      " summary              | mean                \n",
      " Diabetes_binary      | 0.5                 \n",
      " HighBP               | 0.5634583828438862  \n",
      " HighChol             | 0.5257030498500538  \n",
      " CholCheck            | 0.975258869461891   \n",
      " BMI                  | 29.856985231709388  \n",
      " Smoker               | 0.4752730153341255  \n",
      " Stroke               | 0.0621711084705483  \n",
      " HeartDiseaseorAttack | 0.1478102189781022  \n",
      " PhysActivity         | 0.7030357041815198  \n",
      " Fruits               | 0.611794828269111   \n",
      " Veggies              | 0.788773835794715   \n",
      " HvyAlcoholConsump    | 0.04272053414813557 \n",
      " AnyHealthcare        | 0.9549595428054094  \n",
      " NoDocbcCost          | 0.09391444576472585 \n",
      " GenHlth              | 2.837081989475471   \n",
      " MentHlth             | 3.7520370056017653  \n",
      " PhysHlth             | 5.810417020313473   \n",
      " DiffWalk             | 0.25273015334125504 \n",
      " Sex                  | 0.4569965484071748  \n",
      " Age                  | 8.584054772817291   \n",
      " Education            | 4.920952865953715   \n",
      " Income               | 5.698336351290177   \n",
      "-RECORD 2-----------------------------------\n",
      " summary              | stddev              \n",
      " Diabetes_binary      | 0.5000035365055785  \n",
      " HighBP               | 0.49596019315986206 \n",
      " HighChol             | 0.49934244802633815 \n",
      " CholCheck            | 0.1553362428040661  \n",
      " BMI                  | 7.113953851576863   \n",
      " Smoker               | 0.49939173411078136 \n",
      " Stroke               | 0.2414677753677076  \n",
      " HeartDiseaseorAttack | 0.3549142713619403  \n",
      " PhysActivity         | 0.4569239063509665  \n",
      " Fruits               | 0.48734513036612026 \n",
      " Veggies              | 0.4081813673269254  \n",
      " HvyAlcoholConsump    | 0.20222776421845448 \n",
      " AnyHealthcare        | 0.20739436554190885 \n",
      " NoDocbcCost          | 0.2917117179591923  \n",
      " GenHlth              | 1.1135645170395376  \n",
      " MentHlth             | 8.155626553608045   \n",
      " PhysHlth             | 10.062260531163892  \n",
      " DiffWalk             | 0.4345805961233861  \n",
      " Sex                  | 0.4981507939458721  \n",
      " Age                  | 2.852153109951343   \n",
      " Education            | 1.0290808004847634  \n",
      " Income               | 2.1751614146423535  \n",
      "-RECORD 3-----------------------------------\n",
      " summary              | min                 \n",
      " Diabetes_binary      | 0                   \n",
      " HighBP               | 0                   \n",
      " HighChol             | 0                   \n",
      " CholCheck            | 0                   \n",
      " BMI                  | 12                  \n",
      " Smoker               | 0                   \n",
      " Stroke               | 0                   \n",
      " HeartDiseaseorAttack | 0                   \n",
      " PhysActivity         | 0                   \n",
      " Fruits               | 0                   \n",
      " Veggies              | 0                   \n",
      " HvyAlcoholConsump    | 0                   \n",
      " AnyHealthcare        | 0                   \n",
      " NoDocbcCost          | 0                   \n",
      " GenHlth              | 1                   \n",
      " MentHlth             | 0                   \n",
      " PhysHlth             | 0                   \n",
      " DiffWalk             | 0                   \n",
      " Sex                  | 0                   \n",
      " Age                  | 1                   \n",
      " Education            | 1                   \n",
      " Income               | 1                   \n",
      "-RECORD 4-----------------------------------\n",
      " summary              | max                 \n",
      " Diabetes_binary      | 1                   \n",
      " HighBP               | 1                   \n",
      " HighChol             | 1                   \n",
      " CholCheck            | 1                   \n",
      " BMI                  | 98                  \n",
      " Smoker               | 1                   \n",
      " Stroke               | 1                   \n",
      " HeartDiseaseorAttack | 1                   \n",
      " PhysActivity         | 1                   \n",
      " Fruits               | 1                   \n",
      " Veggies              | 1                   \n",
      " HvyAlcoholConsump    | 1                   \n",
      " AnyHealthcare        | 1                   \n",
      " NoDocbcCost          | 1                   \n",
      " GenHlth              | 5                   \n",
      " MentHlth             | 9                   \n",
      " PhysHlth             | 9                   \n",
      " DiffWalk             | 1                   \n",
      " Sex                  | 1                   \n",
      " Age                  | 9                   \n",
      " Education            | 6                   \n",
      " Income               | 8                   \n",
      "\n"
     ]
    }
   ],
   "source": [
    "df.describe().show(vertical = True)"
   ]
  },
  {
   "cell_type": "code",
   "execution_count": 11,
   "id": "6ff1371e",
   "metadata": {},
   "outputs": [
    {
     "name": "stdout",
     "output_type": "stream",
     "text": [
      "root\n",
      " |-- Diabetes_binary: string (nullable = true)\n",
      " |-- HighBP: string (nullable = true)\n",
      " |-- HighChol: string (nullable = true)\n",
      " |-- CholCheck: string (nullable = true)\n",
      " |-- BMI: string (nullable = true)\n",
      " |-- Smoker: string (nullable = true)\n",
      " |-- Stroke: string (nullable = true)\n",
      " |-- HeartDiseaseorAttack: string (nullable = true)\n",
      " |-- PhysActivity: string (nullable = true)\n",
      " |-- Fruits: string (nullable = true)\n",
      " |-- Veggies: string (nullable = true)\n",
      " |-- HvyAlcoholConsump: string (nullable = true)\n",
      " |-- AnyHealthcare: string (nullable = true)\n",
      " |-- NoDocbcCost: string (nullable = true)\n",
      " |-- GenHlth: string (nullable = true)\n",
      " |-- MentHlth: string (nullable = true)\n",
      " |-- PhysHlth: string (nullable = true)\n",
      " |-- DiffWalk: string (nullable = true)\n",
      " |-- Sex: string (nullable = true)\n",
      " |-- Age: string (nullable = true)\n",
      " |-- Education: string (nullable = true)\n",
      " |-- Income: string (nullable = true)\n",
      "\n"
     ]
    }
   ],
   "source": [
    "df.printSchema()"
   ]
  },
  {
   "cell_type": "code",
   "execution_count": 12,
   "id": "58eedaf9",
   "metadata": {
    "scrolled": true
   },
   "outputs": [
    {
     "name": "stdout",
     "output_type": "stream",
     "text": [
      "+---------------+------+--------+---------+---+------+------+--------------------+------------+------+-------+-----------------+-------------+-----------+-------+--------+--------+--------+---+---+---------+------+\n",
      "|Diabetes_binary|HighBP|HighChol|CholCheck|BMI|Smoker|Stroke|HeartDiseaseorAttack|PhysActivity|Fruits|Veggies|HvyAlcoholConsump|AnyHealthcare|NoDocbcCost|GenHlth|MentHlth|PhysHlth|DiffWalk|Sex|Age|Education|Income|\n",
      "+---------------+------+--------+---------+---+------+------+--------------------+------------+------+-------+-----------------+-------------+-----------+-------+--------+--------+--------+---+---+---------+------+\n",
      "|              0|     1|       0|        1| 26|     0|     0|                   0|           1|     0|      1|                0|            1|          0|      3|       5|      30|       0|  1|  4|        6|     8|\n",
      "|              0|     1|       1|        1| 26|     1|     1|                   0|           0|     1|      0|                0|            1|          0|      3|       0|       0|       0|  1| 12|        6|     8|\n",
      "|              0|     0|       0|        1| 26|     0|     0|                   0|           1|     1|      1|                0|            1|          0|      1|       0|      10|       0|  1| 13|        6|     8|\n",
      "|              0|     1|       1|        1| 28|     1|     0|                   0|           1|     1|      1|                0|            1|          0|      3|       0|       3|       0|  1| 11|        6|     8|\n",
      "|              0|     0|       0|        1| 29|     1|     0|                   0|           1|     1|      1|                0|            1|          0|      2|       0|       0|       0|  0|  8|        5|     8|\n",
      "|              0|     0|       0|        1| 18|     0|     0|                   0|           1|     1|      1|                0|            0|          0|      2|       7|       0|       0|  0|  1|        4|     7|\n",
      "|              0|     0|       1|        1| 26|     1|     0|                   0|           1|     1|      1|                1|            1|          0|      1|       0|       0|       0|  1| 13|        5|     6|\n",
      "|              0|     0|       0|        1| 31|     1|     0|                   0|           0|     1|      1|                0|            1|          0|      4|       0|       0|       0|  1|  6|        4|     3|\n",
      "|              0|     0|       0|        1| 32|     0|     0|                   0|           1|     1|      1|                0|            1|          0|      3|       0|       0|       0|  0|  3|        6|     8|\n",
      "|              0|     0|       0|        1| 27|     1|     0|                   0|           0|     1|      1|                0|            1|          0|      3|       0|       6|       0|  1|  6|        4|     4|\n",
      "|              0|     1|       1|        1| 24|     1|     0|                   1|           1|     1|      1|                0|            1|          0|      3|       0|       4|       0|  0| 12|        4|     6|\n",
      "|              0|     0|       0|        1| 21|     0|     0|                   0|           1|     1|      1|                0|            1|          0|      1|       0|       0|       0|  1|  4|        6|     8|\n",
      "|              0|     1|       1|        1| 27|     0|     0|                   0|           1|     1|      1|                0|            1|          0|      2|       0|       0|       0|  1|  7|        6|     8|\n",
      "|              0|     1|       0|        1| 58|     0|     0|                   0|           0|     1|      1|                0|            1|          0|      3|       3|       3|       0|  1| 10|        4|     6|\n",
      "|              0|     0|       1|        1| 29|     1|     0|                   0|           1|     1|      0|                0|            1|          0|      1|       0|       0|       1|  0| 10|        5|     1|\n",
      "|              0|     0|       0|        1| 18|     1|     0|                   0|           1|     1|      0|                0|            1|          0|      3|       0|       0|       0|  0| 10|        4|     6|\n",
      "|              0|     0|       0|        1| 30|     0|     0|                   0|           1|     0|      1|                0|            1|          0|      2|       0|       0|       0|  0|  9|        5|     7|\n",
      "|              0|     0|       0|        1| 30|     1|     0|                   0|           1|     1|      1|                0|            1|          0|      1|       0|       0|       0|  1| 10|        6|     7|\n",
      "|              0|     0|       0|        1| 20|     0|     0|                   0|           1|     1|      1|                0|            1|          0|      2|       0|       0|       0|  0|  8|        6|     8|\n",
      "|              0|     1|       0|        1| 26|     0|     0|                   0|           0|     1|      1|                0|            0|          1|      3|       0|      15|       0|  1|  7|        5|     5|\n",
      "+---------------+------+--------+---------+---+------+------+--------------------+------------+------+-------+-----------------+-------------+-----------+-------+--------+--------+--------+---+---+---------+------+\n",
      "only showing top 20 rows\n",
      "\n"
     ]
    }
   ],
   "source": [
    "df.na.drop().show()"
   ]
  },
  {
   "cell_type": "code",
   "execution_count": 39,
   "id": "08ead49d",
   "metadata": {
    "scrolled": true
   },
   "outputs": [
    {
     "data": {
      "text/plain": [
       "70692"
      ]
     },
     "execution_count": 39,
     "metadata": {},
     "output_type": "execute_result"
    }
   ],
   "source": [
    "df.count()"
   ]
  },
  {
   "cell_type": "code",
   "execution_count": 77,
   "id": "15ce8702",
   "metadata": {
    "scrolled": true
   },
   "outputs": [
    {
     "name": "stdout",
     "output_type": "stream",
     "text": [
      "+---------------+------+--------+---------+---+------+------+--------------------+------------+------+-------+-----------------+-------------+-----------+-------+--------+--------+--------+---+---+---------+------+\n",
      "|Diabetes_binary|HighBP|HighChol|CholCheck|BMI|Smoker|Stroke|HeartDiseaseorAttack|PhysActivity|Fruits|Veggies|HvyAlcoholConsump|AnyHealthcare|NoDocbcCost|GenHlth|MentHlth|PhysHlth|DiffWalk|Sex|Age|Education|Income|\n",
      "+---------------+------+--------+---------+---+------+------+--------------------+------------+------+-------+-----------------+-------------+-----------+-------+--------+--------+--------+---+---+---------+------+\n",
      "|              0|     0|       0|        1| 28|     0|     0|                   0|           1|     0|      0|                0|            1|          0|      1|       0|       0|       0|  1|  4|        6|  null|\n",
      "|              0|     1|       1|        1| 28|     1|     0|                   1|           0|     0|      1|                0|            1|          1|      3|      30|      30|       1|  0|  8|        3|  null|\n",
      "|              0|     0|       0|        1| 38|     0|     0|                   0|           1|     1|      0|                0|            1|          0|      3|       2|       0|       0|  1|  5|        4|  null|\n",
      "|              0|     1|       1|        1| 27|     0|     0|                   0|           0|     0|      1|                0|            1|          0|      3|       0|      30|       1|  0| 12|        4|  null|\n",
      "+---------------+------+--------+---------+---+------+------+--------------------+------------+------+-------+-----------------+-------------+-----------+-------+--------+--------+--------+---+---+---------+------+\n",
      "\n"
     ]
    }
   ],
   "source": [
    "df.filter(df.Income.isNull()).show()"
   ]
  },
  {
   "cell_type": "code",
   "execution_count": 45,
   "id": "756da74a",
   "metadata": {},
   "outputs": [
    {
     "data": {
      "text/plain": [
       "70688"
      ]
     },
     "execution_count": 45,
     "metadata": {},
     "output_type": "execute_result"
    }
   ],
   "source": [
    "dd = df.na.drop()\n",
    "dd.count()"
   ]
  },
  {
   "cell_type": "code",
   "execution_count": null,
   "id": "f3294570",
   "metadata": {},
   "outputs": [],
   "source": []
  }
 ],
 "metadata": {
  "kernelspec": {
   "display_name": "Python 3 (ipykernel)",
   "language": "python",
   "name": "python3"
  },
  "language_info": {
   "codemirror_mode": {
    "name": "ipython",
    "version": 3
   },
   "file_extension": ".py",
   "mimetype": "text/x-python",
   "name": "python",
   "nbconvert_exporter": "python",
   "pygments_lexer": "ipython3",
   "version": "3.10.4"
  }
 },
 "nbformat": 4,
 "nbformat_minor": 5
}
